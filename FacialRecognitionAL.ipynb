{
 "cells": [
  {
   "cell_type": "code",
   "execution_count": 1,
   "metadata": {
    "colab": {
     "base_uri": "https://localhost:8080/",
     "height": 119
    },
    "colab_type": "code",
    "id": "FYfZhVK0fZ2V",
    "outputId": "a8925486-3d18-4000-a32c-e13dcd90015e"
   },
   "outputs": [
    {
     "name": "stderr",
     "output_type": "stream",
     "text": [
      "Cloning into 'facial_expressions'...\n",
      "\n",
      "\u001b[KUpdating files:  15% (2191/13996)\n",
      "\n",
      "\u001b[KUpdating files:  16% (2240/13996)\n",
      "\n",
      "\u001b[KUpdating files:  17% (2380/13996)\n",
      "\n",
      "\u001b[KUpdating files:  18% (2520/13996)\n",
      "\n",
      "\u001b[KUpdating files:  19% (2660/13996)\n",
      "\n",
      "\u001b[KUpdating files:  20% (2800/13996)\n",
      "\n",
      "\u001b[KUpdating files:  21% (2940/13996)\n",
      "\n",
      "\u001b[KUpdating files:  22% (3080/13996)\n",
      "\n",
      "\u001b[KUpdating files:  23% (3220/13996)\n",
      "\n",
      "\u001b[KUpdating files:  24% (3360/13996)\n",
      "\n",
      "\u001b[KUpdating files:  25% (3499/13996)\n",
      "\n",
      "\u001b[KUpdating files:  26% (3639/13996)\n",
      "\n",
      "\u001b[KUpdating files:  27% (3779/13996)\n",
      "\n",
      "\u001b[KUpdating files:  28% (3919/13996)\n",
      "\n",
      "\u001b[KUpdating files:  29% (4059/13996)\n",
      "\n",
      "\u001b[KUpdating files:  29% (4109/13996)\n",
      "\n",
      "\u001b[KUpdating files:  30% (4199/13996)\n",
      "\n",
      "\u001b[KUpdating files:  31% (4339/13996)\n",
      "\n",
      "\u001b[KUpdating files:  32% (4479/13996)\n",
      "\n",
      "\u001b[KUpdating files:  33% (4619/13996)\n",
      "\n",
      "\u001b[KUpdating files:  34% (4759/13996)\n",
      "\n",
      "\u001b[KUpdating files:  35% (4899/13996)\n",
      "\n",
      "\u001b[KUpdating files:  36% (5039/13996)\n",
      "\n",
      "\u001b[KUpdating files:  37% (5179/13996)\n",
      "\n",
      "\u001b[KUpdating files:  38% (5319/13996)\n",
      "\n",
      "\u001b[KUpdating files:  39% (5459/13996)\n",
      "\n",
      "\u001b[KUpdating files:  40% (5599/13996)\n",
      "\n",
      "\u001b[KUpdating files:  41% (5739/13996)\n",
      "\n",
      "\u001b[KUpdating files:  42% (5879/13996)\n",
      "\n",
      "\u001b[KUpdating files:  43% (6019/13996)\n",
      "\n",
      "\u001b[KUpdating files:  44% (6159/13996)\n",
      "\n",
      "\u001b[KUpdating files:  44% (6195/13996)\n",
      "\n",
      "\u001b[KUpdating files:  45% (6299/13996)\n",
      "\n",
      "\u001b[KUpdating files:  46% (6439/13996)\n",
      "\n",
      "\u001b[KUpdating files:  47% (6579/13996)\n",
      "\n",
      "\u001b[KUpdating files:  48% (6719/13996)\n",
      "\n",
      "\u001b[KUpdating files:  49% (6859/13996)\n",
      "\n",
      "\u001b[KUpdating files:  50% (6998/13996)\n",
      "\n",
      "\u001b[KUpdating files:  51% (7138/13996)\n",
      "\n",
      "\u001b[KUpdating files:  52% (7278/13996)\n",
      "\n",
      "\u001b[KUpdating files:  53% (7418/13996)\n",
      "\n",
      "\u001b[KUpdating files:  54% (7558/13996)\n",
      "\n",
      "\u001b[KUpdating files:  55% (7698/13996)\n",
      "\n",
      "\u001b[KUpdating files:  56% (7838/13996)\n",
      "\n",
      "\u001b[KUpdating files:  57% (7978/13996)\n",
      "\n",
      "\u001b[KUpdating files:  58% (8118/13996)\n",
      "\n",
      "\u001b[KUpdating files:  58% (8247/13996)\n",
      "\n",
      "\u001b[KUpdating files:  59% (8258/13996)\n",
      "\n",
      "\u001b[KUpdating files:  60% (8398/13996)\n",
      "\n",
      "\u001b[KUpdating files:  61% (8538/13996)\n",
      "\n",
      "\u001b[KUpdating files:  62% (8678/13996)\n",
      "\n",
      "\u001b[KUpdating files:  63% (8818/13996)\n",
      "\n",
      "\u001b[KUpdating files:  64% (8958/13996)\n",
      "\n",
      "\u001b[KUpdating files:  65% (9098/13996)\n",
      "\n",
      "\u001b[KUpdating files:  66% (9238/13996)\n",
      "\n",
      "\u001b[KUpdating files:  67% (9378/13996)\n",
      "\n",
      "\u001b[KUpdating files:  68% (9518/13996)\n",
      "\n",
      "\u001b[KUpdating files:  69% (9658/13996)\n",
      "\n",
      "\u001b[KUpdating files:  70% (9798/13996)\n",
      "\n",
      "\u001b[KUpdating files:  71% (9938/13996)\n",
      "\n",
      "\u001b[KUpdating files:  72% (10078/13996)\n",
      "\n",
      "\u001b[KUpdating files:  73% (10218/13996)\n",
      "\n",
      "\u001b[KUpdating files:  73% (10231/13996)\n",
      "\n",
      "\u001b[KUpdating files:  74% (10358/13996)\n",
      "\n",
      "\u001b[KUpdating files:  75% (10497/13996)\n",
      "\n",
      "\u001b[KUpdating files:  76% (10637/13996)\n",
      "\n",
      "\u001b[KUpdating files:  77% (10777/13996)\n",
      "\n",
      "\u001b[KUpdating files:  78% (10917/13996)\n",
      "\n",
      "\u001b[KUpdating files:  79% (11057/13996)\n",
      "\n",
      "\u001b[KUpdating files:  80% (11197/13996)\n",
      "\n",
      "\u001b[KUpdating files:  81% (11337/13996)\n",
      "\n",
      "\u001b[KUpdating files:  82% (11477/13996)\n",
      "\n",
      "\u001b[KUpdating files:  83% (11617/13996)\n",
      "\n",
      "\u001b[KUpdating files:  84% (11757/13996)\n",
      "\n",
      "\u001b[KUpdating files:  85% (11897/13996)\n",
      "\n",
      "\u001b[KUpdating files:  85% (12007/13996)\n",
      "\n",
      "\u001b[KUpdating files:  86% (12037/13996)\n",
      "\n",
      "\u001b[KUpdating files:  87% (12177/13996)\n",
      "\n",
      "\u001b[KUpdating files:  88% (12317/13996)\n",
      "\n",
      "\u001b[KUpdating files:  89% (12457/13996)\n",
      "\n",
      "\u001b[KUpdating files:  90% (12597/13996)\n",
      "\n",
      "\u001b[KUpdating files:  91% (12737/13996)\n",
      "\n",
      "\u001b[KUpdating files:  92% (12877/13996)\n",
      "\n",
      "\u001b[KUpdating files:  93% (13017/13996)\n",
      "\n",
      "\u001b[KUpdating files:  94% (13157/13996)\n",
      "\n",
      "\u001b[KUpdating files:  95% (13297/13996)\n",
      "\n",
      "\u001b[KUpdating files:  96% (13437/13996)\n",
      "\n",
      "\u001b[KUpdating files:  97% (13577/13996)\n",
      "\n",
      "\u001b[KUpdating files:  98% (13717/13996)\n",
      "\n",
      "\u001b[KUpdating files:  99% (13857/13996)\n",
      "\n",
      "\u001b[KUpdating files: 100% (13996/13996)\n",
      "\n",
      "\u001b[KUpdating files: 100% (13996/13996), done.\n"
     ]
    }
   ],
   "source": [
    "!git clone https://github.com/muxspace/facial_expressions.git"
   ]
  },
  {
   "cell_type": "code",
   "execution_count": 2,
   "metadata": {
    "colab": {},
    "colab_type": "code",
    "id": "s9g3ri-UfmET"
   },
   "outputs": [],
   "source": [
    "import csv\n",
    "data = {}\n",
    "with open('facial_expressions/data/legend.csv') as f:\n",
    "    reader = csv.reader(f)\n",
    "    next(reader)\n",
    "    for row in reader:\n",
    "        key = row[2].lower()\n",
    "        if key in data:\n",
    "            if key != 'facial-expressions_2868588k.jpg':\n",
    "                data[key].append(row[1])\n",
    "        else:\n",
    "            if key != 'facial-expressions_2868588k.jpg':\n",
    "                data[key] = [row[1]]"
   ]
  },
  {
   "cell_type": "code",
   "execution_count": 3,
   "metadata": {
    "colab": {
     "base_uri": "https://localhost:8080/",
     "height": 153
    },
    "colab_type": "code",
    "id": "VVzU_a67jrGX",
    "outputId": "c0ae980d-7eb6-4636-d630-668143861edd"
   },
   "outputs": [
    {
     "data": {
      "text/plain": [
       "['anger',\n",
       " 'surprise',\n",
       " 'disgust',\n",
       " 'fear',\n",
       " 'neutral',\n",
       " 'happiness',\n",
       " 'sadness',\n",
       " 'contempt']"
      ]
     },
     "execution_count": 3,
     "metadata": {},
     "output_type": "execute_result"
    }
   ],
   "source": [
    "emotion_list = list(data.keys())\n",
    "emotion_list"
   ]
  },
  {
   "cell_type": "code",
   "execution_count": 5,
   "metadata": {
    "colab": {},
    "colab_type": "code",
    "id": "vHbst716k2KO"
   },
   "outputs": [],
   "source": [
    "import os\n",
    "\n",
    "os.mkdir('master_data')\n",
    "os.mkdir('master_data/training')\n",
    "os.mkdir('master_data/testing')"
   ]
  },
  {
   "cell_type": "code",
   "execution_count": 6,
   "metadata": {
    "colab": {},
    "colab_type": "code",
    "id": "yVQ7jkssk9cd"
   },
   "outputs": [],
   "source": [
    "for emotion in emotion_list:\n",
    "    os.mkdir(os.path.join('master_data/training/', emotion))\n",
    "    os.mkdir(os.path.join('master_data/testing/', emotion))"
   ]
  },
  {
   "cell_type": "code",
   "execution_count": 7,
   "metadata": {
    "colab": {},
    "colab_type": "code",
    "id": "5NAIPMkLlIj1"
   },
   "outputs": [],
   "source": [
    "from shutil import copyfile\n",
    "split_size = 0.8\n",
    "\n",
    "for emotion, images in data.items():\n",
    "    train_size = int(split_size*len(images))\n",
    "    train_images = images[:train_size]\n",
    "    test_images = images[train_size:]\n",
    "    for image in train_images:\n",
    "        if(image == 'facial-expressions_2868582k.jpg'):\n",
    "            continue\n",
    "        if(image == 'facial-expressions_2868584k.jpg'):\n",
    "            continue\n",
    "        if(image == 'facial-expressions_2868585k.jpg'):\n",
    "            continue\n",
    "        if(image == 'facial-expressions_2868588k.jpg'):\n",
    "            continue\n",
    "        source = os.path.join('facial_expressions/images', image)\n",
    "        dest = os.path.join('master_data/training', emotion, image)\n",
    "        copyfile(source, dest)\n",
    "    for image in test_images:\n",
    "        if(image == 'facial-expressions_2868582k.jpg'):\n",
    "            continue\n",
    "        if(image == 'facial-expressions_2868584k.jpg'):\n",
    "            continue\n",
    "        if(image == 'facial-expressions_2868585k.jpg'):\n",
    "            continue\n",
    "        if(image == 'facial-expressions_2868588k.jpg'):\n",
    "            continue\n",
    "        source = os.path.join('facial_expressions/images', image)\n",
    "        dest = os.path.join('master_data/testing', emotion, image)\n",
    "        copyfile(source, dest)"
   ]
  },
  {
   "cell_type": "code",
   "execution_count": 10,
   "metadata": {
    "colab": {},
    "colab_type": "code",
    "id": "9nUCakLgmSNp"
   },
   "outputs": [],
   "source": [
    "import tensorflow as tf\n",
    "from tensorflow.keras.preprocessing.image import ImageDataGenerator\n",
    "from tensorflow.keras.optimizers import Adam\n",
    "from tensorflow.keras.callbacks import EarlyStopping\n",
    "from tensorflow.keras.layers import Conv2D, MaxPooling2D, Dense, Flatten"
   ]
  },
  {
   "cell_type": "code",
   "execution_count": 11,
   "metadata": {
    "colab": {
     "base_uri": "https://localhost:8080/",
     "height": 459
    },
    "colab_type": "code",
    "id": "dSYxzkfjnduI",
    "outputId": "9d95f6ce-8281-4709-bb78-7652de192f0c"
   },
   "outputs": [
    {
     "name": "stdout",
     "output_type": "stream",
     "text": [
      "Model: \"sequential_1\"\n",
      "_________________________________________________________________\n",
      "Layer (type)                 Output Shape              Param #   \n",
      "=================================================================\n",
      "conv2d_3 (Conv2D)            (None, 98, 98, 16)        448       \n",
      "_________________________________________________________________\n",
      "max_pooling2d_3 (MaxPooling2 (None, 49, 49, 16)        0         \n",
      "_________________________________________________________________\n",
      "conv2d_4 (Conv2D)            (None, 47, 47, 32)        4640      \n",
      "_________________________________________________________________\n",
      "max_pooling2d_4 (MaxPooling2 (None, 23, 23, 32)        0         \n",
      "_________________________________________________________________\n",
      "conv2d_5 (Conv2D)            (None, 21, 21, 64)        18496     \n",
      "_________________________________________________________________\n",
      "max_pooling2d_5 (MaxPooling2 (None, 10, 10, 64)        0         \n",
      "_________________________________________________________________\n",
      "flatten_1 (Flatten)          (None, 6400)              0         \n",
      "_________________________________________________________________\n",
      "dense_2 (Dense)              (None, 2048)              13109248  \n",
      "_________________________________________________________________\n",
      "dense_3 (Dense)              (None, 8)                 16392     \n",
      "=================================================================\n",
      "Total params: 13,149,224\n",
      "Trainable params: 13,149,224\n",
      "Non-trainable params: 0\n",
      "_________________________________________________________________\n"
     ]
    }
   ],
   "source": [
    "model = tf.keras.models.Sequential([\n",
    "      Conv2D(16, (3,3), activation='relu', input_shape = (100, 100, 3)),\n",
    "      MaxPooling2D(2, 2),\n",
    "      Conv2D(32, (3,3), activation='relu'),\n",
    "      MaxPooling2D(2, 2),\n",
    "      Conv2D(64, (3,3), activation='relu'),\n",
    "      MaxPooling2D(2, 2),\n",
    "      Flatten(),\n",
    "      Dense(2048, activation='relu'),\n",
    "      Dense(8, activation='softmax')\n",
    "])\n",
    "model.compile(optimizer = Adam(lr = 0.01), loss = 'categorical_crossentropy', metrics = ['acc'])\n",
    "model.summary()"
   ]
  },
  {
   "cell_type": "code",
   "execution_count": 12,
   "metadata": {
    "colab": {
     "base_uri": "https://localhost:8080/",
     "height": 51
    },
    "colab_type": "code",
    "id": "xo-O0elhqXWg",
    "outputId": "47481810-7207-4715-f802-14155834b357"
   },
   "outputs": [
    {
     "name": "stdout",
     "output_type": "stream",
     "text": [
      "Found 10937 images belonging to 8 classes.\n",
      "Found 2742 images belonging to 8 classes.\n"
     ]
    }
   ],
   "source": [
    "train_dir = 'master_data/training'\n",
    "test_dir = 'master_data/testing'\n",
    "\n",
    "train_datagen = ImageDataGenerator(rescale = 1.0/255)\n",
    "train_generator = train_datagen.flow_from_directory(\n",
    "                                                    train_dir,\n",
    "                                                    target_size = (100, 100),\n",
    "                                                    class_mode = 'categorical',\n",
    "                                                    batch_size = 128\n",
    "                                                  )\n",
    "\n",
    "test_datagen = ImageDataGenerator(rescale = 1.0/255)\n",
    "test_generator = test_datagen.flow_from_directory(\n",
    "                                                    test_dir,\n",
    "                                                    target_size = (100, 100),\n",
    "                                                    class_mode = 'categorical',\n",
    "                                                    batch_size = 128\n",
    "                                                  )"
   ]
  },
  {
   "cell_type": "code",
   "execution_count": 13,
   "metadata": {
    "colab": {},
    "colab_type": "code",
    "id": "YCI0xQtlsbYc"
   },
   "outputs": [],
   "source": [
    "es = EarlyStopping(monitor='val_acc', patience = 2, min_delta=0.01)"
   ]
  },
  {
   "cell_type": "code",
   "execution_count": 14,
   "metadata": {
    "colab": {
     "base_uri": "https://localhost:8080/",
     "height": 275
    },
    "colab_type": "code",
    "id": "jMBsgMIqs_GP",
    "outputId": "b538738d-d1a8-49d7-edbd-6b24843a59a0"
   },
   "outputs": [
    {
     "name": "stdout",
     "output_type": "stream",
     "text": [
      "Epoch 1/10\n",
      "86/86 [==============================] - 46s 535ms/step - loss: 1.8050 - acc: 0.4646 - val_loss: 1.0411 - val_acc: 0.4384\n",
      "Epoch 2/10\n",
      "86/86 [==============================] - 12s 143ms/step - loss: 1.0416 - acc: 0.4977 - val_loss: 1.0315 - val_acc: 0.5518\n",
      "Epoch 3/10\n",
      "86/86 [==============================] - 12s 140ms/step - loss: 0.9998 - acc: 0.5577 - val_loss: 0.9908 - val_acc: 0.5835\n",
      "Epoch 4/10\n",
      "86/86 [==============================] - 12s 140ms/step - loss: 0.8424 - acc: 0.6902 - val_loss: 0.9391 - val_acc: 0.6568\n",
      "Epoch 5/10\n",
      "86/86 [==============================] - 12s 140ms/step - loss: 0.7599 - acc: 0.7344 - val_loss: 0.9983 - val_acc: 0.6389\n",
      "Epoch 6/10\n",
      "86/86 [==============================] - 12s 140ms/step - loss: 0.7476 - acc: 0.7377 - val_loss: 0.9734 - val_acc: 0.6287\n"
     ]
    },
    {
     "data": {
      "text/plain": [
       "<tensorflow.python.keras.callbacks.History at 0x22c1c929cc8>"
      ]
     },
     "execution_count": 14,
     "metadata": {},
     "output_type": "execute_result"
    }
   ],
   "source": [
    "model.fit_generator(train_generator,\n",
    "                    epochs = 10,\n",
    "                    verbose = 1,\n",
    "                    validation_data = test_generator,\n",
    "                    callbacks = [es])"
   ]
  }
 ],
 "metadata": {
  "accelerator": "GPU",
  "colab": {
   "collapsed_sections": [],
   "name": "facial_expression_recognition.ipynb",
   "provenance": []
  },
  "kernelspec": {
   "display_name": "Python 3",
   "language": "python",
   "name": "python3"
  },
  "language_info": {
   "codemirror_mode": {
    "name": "ipython",
    "version": 3
   },
   "file_extension": ".py",
   "mimetype": "text/x-python",
   "name": "python",
   "nbconvert_exporter": "python",
   "pygments_lexer": "ipython3",
   "version": "3.7.6"
  }
 },
 "nbformat": 4,
 "nbformat_minor": 1
}
